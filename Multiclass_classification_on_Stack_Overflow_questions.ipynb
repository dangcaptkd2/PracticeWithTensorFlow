{
  "nbformat": 4,
  "nbformat_minor": 0,
  "metadata": {
    "colab": {
      "name": "Multiclass classification on Stack Overflow questions.ipynb",
      "provenance": [],
      "toc_visible": true,
      "authorship_tag": "ABX9TyOuU9UIiRwEOjM2lafrw/ni",
      "include_colab_link": true
    },
    "kernelspec": {
      "name": "python3",
      "display_name": "Python 3"
    }
  },
  "cells": [
    {
      "cell_type": "markdown",
      "metadata": {
        "id": "view-in-github",
        "colab_type": "text"
      },
      "source": [
        "<a href=\"https://colab.research.google.com/github/dangcaptkd2/PracticeWithTensorFlow/blob/main/Multiclass_classification_on_Stack_Overflow_questions.ipynb\" target=\"_parent\"><img src=\"https://colab.research.google.com/assets/colab-badge.svg\" alt=\"Open In Colab\"/></a>"
      ]
    },
    {
      "cell_type": "markdown",
      "metadata": {
        "id": "axC_eAuSJOj6"
      },
      "source": [
        "# Unzip and explore data"
      ]
    },
    {
      "cell_type": "code",
      "metadata": {
        "id": "O5kOJWT_HKoj"
      },
      "source": [
        "import tarfile\r\n",
        "file = tarfile.open('/content/stack_overflow_16k.tar.gz', 'r:gz')\r\n",
        "file.extractall()"
      ],
      "execution_count": 75,
      "outputs": []
    },
    {
      "cell_type": "code",
      "metadata": {
        "colab": {
          "base_uri": "https://localhost:8080/"
        },
        "id": "-BTgLvtMJSNi",
        "outputId": "479ebc6c-eddd-4fbf-d683-dd40b4766315"
      },
      "source": [
        "sample_file = '/content/train/csharp/0.txt'\r\n",
        "with open(sample_file) as f:\r\n",
        "  print(f.read())"
      ],
      "execution_count": 76,
      "outputs": [
        {
          "output_type": "stream",
          "text": [
            "\"how to pause loop while time is ticking i have made a timer where i can set time i want to wait and then do something..so this is my short timer func:..private void sleep(int interval, action action).{.    system.windows.forms.timer mytimer = new system.windows.forms.timer();.    mytimer.interval = interval; //interval is in ms   .    mytimer.start();.    mytimer.tick += (s, e) =&gt;.    {.        action();.        mytimer.stop();.    };.}...and im using this timer in loop:..foreach (string word in words).{.   sleep(5000, ()=&gt; myaction());                                           .}...without loop timer is great but in loop it wont work because loop wont stop and wait for those 5secs. it do all stuff imediately and starts timer again and again too fast...so what im trying to find out is how to make my loop wait until time runs out and myaction() is executed. im working on forms application so all threadin sleeps wont work here. also i tried all other timers but they used too much cpu.\"\n",
            "\n"
          ],
          "name": "stdout"
        }
      ]
    },
    {
      "cell_type": "code",
      "metadata": {
        "id": "d442VJQyKAgi"
      },
      "source": [
        "import matplotlib.pyplot as plt\r\n",
        "import os\r\n",
        "import string\r\n",
        "import tensorflow as tf\r\n",
        "import re\r\n",
        "\r\n",
        "from tensorflow.keras import layers\r\n",
        "from tensorflow.keras import losses\r\n",
        "from tensorflow.keras import preprocessing\r\n",
        "from tensorflow.keras.layers.experimental.preprocessing import TextVectorization"
      ],
      "execution_count": 77,
      "outputs": []
    },
    {
      "cell_type": "code",
      "metadata": {
        "colab": {
          "base_uri": "https://localhost:8080/"
        },
        "id": "AbMfVoLBKD0l",
        "outputId": "1a4ad575-f647-4e07-c2d1-6830564c63bd"
      },
      "source": [
        "print('Train dataset:')\r\n",
        "print('c#:',len(os.listdir('/content/train/csharp')))\r\n",
        "print('java:',len(os.listdir('/content/train/java')))\r\n",
        "print('javascript:',len(os.listdir('/content/train/javascript')))\r\n",
        "print('python',len(os.listdir('/content/train/python')))"
      ],
      "execution_count": 78,
      "outputs": [
        {
          "output_type": "stream",
          "text": [
            "Train dataset:\n",
            "c#: 2000\n",
            "java: 2000\n",
            "javascript: 2000\n",
            "python 2000\n"
          ],
          "name": "stdout"
        }
      ]
    },
    {
      "cell_type": "code",
      "metadata": {
        "colab": {
          "base_uri": "https://localhost:8080/"
        },
        "id": "ChW5sKHbKnA-",
        "outputId": "125e315d-2165-41a6-c570-e0c8e877d16e"
      },
      "source": [
        "print('Test dataset:')\r\n",
        "print('c#:',len(os.listdir('/content/test/csharp')))\r\n",
        "print('java:',len(os.listdir('/content/test/java')))\r\n",
        "print('javascript:',len(os.listdir('/content/test/javascript')))\r\n",
        "print('python',len(os.listdir('/content/test/python')))"
      ],
      "execution_count": 79,
      "outputs": [
        {
          "output_type": "stream",
          "text": [
            "Test dataset:\n",
            "c#: 2000\n",
            "java: 2000\n",
            "javascript: 2000\n",
            "python 2000\n"
          ],
          "name": "stdout"
        }
      ]
    },
    {
      "cell_type": "markdown",
      "metadata": {
        "id": "wExIgM-5_mpT"
      },
      "source": [
        "# Prepare the data for training"
      ]
    },
    {
      "cell_type": "code",
      "metadata": {
        "colab": {
          "base_uri": "https://localhost:8080/"
        },
        "id": "e-9zHcNsL9XA",
        "outputId": "a3a796cd-831f-45cd-cddc-8879fbd1481e"
      },
      "source": [
        "batch_size = 32\r\n",
        "seed = 69\r\n",
        "\r\n",
        "raw_train = tf.keras.preprocessing.text_dataset_from_directory('/content/train', batch_size=batch_size, \r\n",
        "    validation_split=0.2, subset='training', seed=seed)\r\n",
        "\r\n",
        "raw_valid = tf.keras.preprocessing.text_dataset_from_directory('/content/train', batch_size=batch_size, \r\n",
        "    validation_split=0.2, subset='validation', seed=seed)\r\n",
        "\r\n",
        "raw_test = tf.keras.preprocessing.text_dataset_from_directory('/content/train', batch_size=batch_size)"
      ],
      "execution_count": 80,
      "outputs": [
        {
          "output_type": "stream",
          "text": [
            "Found 8000 files belonging to 4 classes.\n",
            "Using 6400 files for training.\n",
            "Found 8000 files belonging to 4 classes.\n",
            "Using 1600 files for validation.\n",
            "Found 8000 files belonging to 4 classes.\n"
          ],
          "name": "stdout"
        }
      ]
    },
    {
      "cell_type": "code",
      "metadata": {
        "colab": {
          "base_uri": "https://localhost:8080/"
        },
        "id": "BwIUV7UCMu6U",
        "outputId": "63007b17-2248-4260-eb2b-0b12b841b739"
      },
      "source": [
        "for text_batch, label_batch in raw_train.take(1):\r\n",
        "  for i in range(3):\r\n",
        "    print('question:', text_batch.numpy()[i])\r\n",
        "    print('label:', label_batch.numpy()[i])"
      ],
      "execution_count": 81,
      "outputs": [
        {
          "output_type": "stream",
          "text": [
            "question: b'\"docvecs.most_similar() not working properly. won\\'t find docs so, i\\'m new to blank, and this is one of the first problems i\\'m solving. i realise i\\'m in over my head a bit, but i really need this done (and i want to learn!)...i\\'m trying to classify different aricles based on their product description. for this i\\'m using gensim doc2vec, along with the usual pandas, numpy etc. ..i have a document of about 6000 unique product descriptions, with their respective article number. i have no difficulty reading the file, formatting and tokenizing it and removing stopwords etc. what is giving me a headache is the acutal model training. to set up the code i\\'m using a part of the document with only 200 articles, so that the training doesn\\'t take forever each time i get it wrong...i get results when using the model.most_similar(\"\"word\"\") function (although they are not that great, which isn\\'t strange for such a small sample). what bothers me is that i cannot get the model.docvecs.most_similar([doc_id]) function to work. ..##...reading and formatting file. variable \\'data\\' is the df containing tokenized lists etc........def create_taggeddoc (): #code for creating taggeddocument-list.    tagged = [].    i = 0.    for row in data[\\'no_stops_nbrs\\']:.        tag = data[\\'artcle\\'].iloc[i].        tagged.append(taggeddocument(row, tags = tag)).        i += 1..    return tagged...def train_data(): #returns trained model.    #...training model....    return model...model.docvecs.most_similar(artnbr) #the one that doesn\\'t work...the taggeddocument method seems correct (albeit unelegant), as: ..print(tagged[:5])...shows the correct wordlists and tags. ..for some reason though, the last line doesn\\'t work. when i enter the artnbr parameter as a string: eg ..model.docvecs.most_similar(\\'1234\\')...i get: ..typeerror: \\'&lt;\\' not supported between instances of \\'str\\' and \\'int\\'..but when i enter it as an int, eg ..model.docvecs.most_similar(1234)...i get: ..keyerror: \"\"doc \\'1234\\' not in trained set\"\"..what am i not understanding here? ..sorry if the information is lacking, i\\'ll provide more if needed. thanks!\"\\n'\n",
            "label: 3\n",
            "question: b'\"split function of blank by space is splitting string character wise i am new to wpf. ..in my application, i want to split a string by space...code:..string str=\"\"hi i am a string\"\";.string[] strlist=str.split(\\' \\');.messagebox.show(\"\"length: \"\"+ strlist.length); //output: length: 16...i also tried..string str=\"\"hi i am a string\"\";.char[] splitchar = { \\' \\' };.string[] strlist=str.split(splitchar);.messagebox.show(\"\"length: \"\"+ strlist.length); //output: length: 16...i also tried..string str=\"\"hi i am a string\"\";.string[] strlist=str.split();.messagebox.show(\"\"length: \"\"+ strlist.length); //output: length: 16...but in all of the cases, it is printing length: 16. it should print 5..if i print the values of strlist then it is printing h i i a m a s t r i n g..please guide me.\"\\n'\n",
            "label: 0\n",
            "question: b'is it safe to use debug folder files for distribution? is it safe to use debug folder files for distribution ? or i should use release folder ...i use vs 2008 express edition .\\n'\n",
            "label: 0\n"
          ],
          "name": "stdout"
        }
      ]
    },
    {
      "cell_type": "code",
      "metadata": {
        "colab": {
          "base_uri": "https://localhost:8080/"
        },
        "id": "WXZu4vaXOhJD",
        "outputId": "bc9854f8-f173-45aa-9387-b7bbafb07937"
      },
      "source": [
        "raw_train.class_names"
      ],
      "execution_count": 82,
      "outputs": [
        {
          "output_type": "execute_result",
          "data": {
            "text/plain": [
              "['csharp', 'java', 'javascript', 'python']"
            ]
          },
          "metadata": {
            "tags": []
          },
          "execution_count": 82
        }
      ]
    },
    {
      "cell_type": "code",
      "metadata": {
        "colab": {
          "base_uri": "https://localhost:8080/"
        },
        "id": "NHyl7W3TN_1j",
        "outputId": "616a222d-04b4-40f8-8c70-c86392061a65"
      },
      "source": [
        "print('class 0:', raw_train.class_names[0])\r\n",
        "print('class 1:', raw_train.class_names[1])\r\n",
        "print('class 2:', raw_train.class_names[2])\r\n",
        "print('class 3:', raw_train.class_names[3])"
      ],
      "execution_count": 83,
      "outputs": [
        {
          "output_type": "stream",
          "text": [
            "class 0: csharp\n",
            "class 1: java\n",
            "class 2: javascript\n",
            "class 3: python\n"
          ],
          "name": "stdout"
        }
      ]
    },
    {
      "cell_type": "code",
      "metadata": {
        "id": "xjamDps5q4Jh"
      },
      "source": [
        "max_features = 5000\r\n",
        "sequence_length = 500\r\n",
        "\r\n",
        "vectorize_layer = TextVectorization(\r\n",
        "    max_tokens=max_features,\r\n",
        "    output_mode='int',\r\n",
        "    output_sequence_length=sequence_length)"
      ],
      "execution_count": 84,
      "outputs": []
    },
    {
      "cell_type": "code",
      "metadata": {
        "id": "IBPb3GA6BuKz"
      },
      "source": [
        "# Make a text-only dataset (no labels) and call adapt\r\n",
        "text_ds = raw_train.map(lambda x, y: x)\r\n",
        "vectorize_layer.adapt(text_ds)"
      ],
      "execution_count": 93,
      "outputs": []
    },
    {
      "cell_type": "code",
      "metadata": {
        "id": "DY3XyHCRrlwc"
      },
      "source": [
        "def vectorize_text(text, label):\r\n",
        "  text = tf.expand_dims(text, -1)\r\n",
        "  return vectorize_layer(text), label"
      ],
      "execution_count": 85,
      "outputs": []
    },
    {
      "cell_type": "code",
      "metadata": {
        "colab": {
          "base_uri": "https://localhost:8080/"
        },
        "id": "qUCAnpPHrs-R",
        "outputId": "d9bb448b-5257-4c92-82ef-98c37bd20c42"
      },
      "source": [
        "# retrieve a batch (of 32 reviews and labels) from the dataset\r\n",
        "text_batch, label_batch = next(iter(raw_train))\r\n",
        "first_question, first_label = text_batch[0], label_batch[0]\r\n",
        "print(\"Question\", first_question)\r\n",
        "print(\"Label\", raw_train.class_names[first_label])\r\n",
        "print(\"Vectorized review\", vectorize_text(first_question, first_label))"
      ],
      "execution_count": 94,
      "outputs": [
        {
          "output_type": "stream",
          "text": [
            "Question tf.Tensor(b'\"unusual transitionend script behavior hey guys have a look at the script below :: ..  function transitionend() {.    var el = document.createelement(\\'bootstrap\\')..    var transendeventnames = {.      webkittransition : \\'webkittransitionend\\',.      moztransition    : \\'transitionend\\',.      otransition      : \\'otransitionend otransitionend\\',.      transition       : \\'transitionend\\'.    }..    for (var name in transendeventnames) {.        console.log(name);.      if (el.style[name] !== undefined) {.        return { end: transendeventnames[name] }.      }.    }.    return false // explicit for ie8 (  ._.).  }..transitionend();...now when this script is run the following is printed to the console : ..\"\"webkittransition\"\" .\"\"moztransition\"\"...now if i remove the if check inside the for loop and run the following script instead :: ..  function transitionend() {.    var el = document.createelement(\\'bootstrap\\')..    var transendeventnames = {.      webkittransition : \\'webkittransitionend\\',.      moztransition    : \\'transitionend\\',.      otransition      : \\'otransitionend otransitionend\\',.      transition       : \\'transitionend\\'.    }..    for (var name in transendeventnames) {.        console.log(name);.    }.    return false // explicit for ie8 (  ._.).  }...transitionend();...what prints out is the following :: ..\"\"webkittransition\"\" .\"\"moztransition\"\" .\"\"otransition\"\" .\"\"transition\"\"...why , i am expecting the above result to be printed in both scripts , then why am i getting differennt results ?? , also the  console.log(name); is before the if condition , so why is the if condition affecting the result ? ..thank you. ..alex-z .\"\\n', shape=(), dtype=string)\n",
            "Label javascript\n",
            "Vectorized review (<tf.Tensor: shape=(1, 500), dtype=int64, numpy=\n",
            "array([[   1, 4075,  215, 1024, 1834, 1017,   17,    5,  432,   56,    2,\n",
            "         215,  170,   37, 4075,   43, 2101,    1,   43,    1,    1,    1,\n",
            "           1, 4075,    1,    1,    1, 2685, 4075,   12,   43,   55,    6,\n",
            "           1,    1,   11,    1,  420,   24,  197,    1,   24,  100, 2775,\n",
            "          12,    1,    1,   45,   13,  215,    7,  138,    2,  120,    7,\n",
            "         949,    4,    2,  336,    1,    1,   11,    3,  289,    2,   11,\n",
            "         183,  224,    2,   12,  130,    8,  138,    2,  120,  215,  263,\n",
            "          37, 4075,   43, 2101,    1,   43,    1,    1,    1,    1, 4075,\n",
            "           1,    1,    1, 2685, 4075,   12,   43,   55,    6,    1,    1,\n",
            "          24,  100, 2775,   12,    1,    1,  543,   94,    7,    2,  120,\n",
            "           1,    1,    1,    1,    3,   34, 1634,    2,  256,  136,    4,\n",
            "          33,  949,    6,  274, 1217,   84,  106,   34,    3,  154,    1,\n",
            "         392,  179,    2,    1,    7,  277,    2,   11,  632,   49,  106,\n",
            "           7,    2,   11,  632,    1,    2,  136,  555,   64,    1,    0,\n",
            "           0,    0,    0,    0,    0,    0,    0,    0,    0,    0,    0,\n",
            "           0,    0,    0,    0,    0,    0,    0,    0,    0,    0,    0,\n",
            "           0,    0,    0,    0,    0,    0,    0,    0,    0,    0,    0,\n",
            "           0,    0,    0,    0,    0,    0,    0,    0,    0,    0,    0,\n",
            "           0,    0,    0,    0,    0,    0,    0,    0,    0,    0,    0,\n",
            "           0,    0,    0,    0,    0,    0,    0,    0,    0,    0,    0,\n",
            "           0,    0,    0,    0,    0,    0,    0,    0,    0,    0,    0,\n",
            "           0,    0,    0,    0,    0,    0,    0,    0,    0,    0,    0,\n",
            "           0,    0,    0,    0,    0,    0,    0,    0,    0,    0,    0,\n",
            "           0,    0,    0,    0,    0,    0,    0,    0,    0,    0,    0,\n",
            "           0,    0,    0,    0,    0,    0,    0,    0,    0,    0,    0,\n",
            "           0,    0,    0,    0,    0,    0,    0,    0,    0,    0,    0,\n",
            "           0,    0,    0,    0,    0,    0,    0,    0,    0,    0,    0,\n",
            "           0,    0,    0,    0,    0,    0,    0,    0,    0,    0,    0,\n",
            "           0,    0,    0,    0,    0,    0,    0,    0,    0,    0,    0,\n",
            "           0,    0,    0,    0,    0,    0,    0,    0,    0,    0,    0,\n",
            "           0,    0,    0,    0,    0,    0,    0,    0,    0,    0,    0,\n",
            "           0,    0,    0,    0,    0,    0,    0,    0,    0,    0,    0,\n",
            "           0,    0,    0,    0,    0,    0,    0,    0,    0,    0,    0,\n",
            "           0,    0,    0,    0,    0,    0,    0,    0,    0,    0,    0,\n",
            "           0,    0,    0,    0,    0,    0,    0,    0,    0,    0,    0,\n",
            "           0,    0,    0,    0,    0,    0,    0,    0,    0,    0,    0,\n",
            "           0,    0,    0,    0,    0,    0,    0,    0,    0,    0,    0,\n",
            "           0,    0,    0,    0,    0,    0,    0,    0,    0,    0,    0,\n",
            "           0,    0,    0,    0,    0,    0,    0,    0,    0,    0,    0,\n",
            "           0,    0,    0,    0,    0,    0,    0,    0,    0,    0,    0,\n",
            "           0,    0,    0,    0,    0,    0,    0,    0,    0,    0,    0,\n",
            "           0,    0,    0,    0,    0,    0,    0,    0,    0,    0,    0,\n",
            "           0,    0,    0,    0,    0,    0,    0,    0,    0,    0,    0,\n",
            "           0,    0,    0,    0,    0,    0,    0,    0,    0,    0,    0,\n",
            "           0,    0,    0,    0,    0,    0,    0,    0,    0,    0,    0,\n",
            "           0,    0,    0,    0,    0]])>, <tf.Tensor: shape=(), dtype=int32, numpy=2>)\n"
          ],
          "name": "stdout"
        }
      ]
    },
    {
      "cell_type": "code",
      "metadata": {
        "colab": {
          "base_uri": "https://localhost:8080/"
        },
        "id": "PIUUqu8lutAp",
        "outputId": "e25c388c-d56f-4c0e-c466-d0407497a994"
      },
      "source": [
        "print(\"450 ---> \",vectorize_layer.get_vocabulary()[450])\r\n",
        "print(\" 313 ---> \",vectorize_layer.get_vocabulary()[313])\r\n",
        "print(\" 2 ---> \",vectorize_layer.get_vocabulary()[2])\r\n",
        "print('Vocabulary size: {}'.format(len(vectorize_layer.get_vocabulary())))"
      ],
      "execution_count": 95,
      "outputs": [
        {
          "output_type": "stream",
          "text": [
            "450 --->  save\n",
            " 313 --->  sum\n",
            " 2 --->  the\n",
            "Vocabulary size: 5000\n"
          ],
          "name": "stdout"
        }
      ]
    },
    {
      "cell_type": "code",
      "metadata": {
        "id": "xR_AaemyuaU4"
      },
      "source": [
        "train_ds = raw_train.map(vectorize_text)\r\n",
        "val_ds = raw_valid.map(vectorize_text)\r\n",
        "test_ds = raw_test.map(vectorize_text)"
      ],
      "execution_count": 96,
      "outputs": []
    },
    {
      "cell_type": "code",
      "metadata": {
        "id": "wLUqYER0zSP2"
      },
      "source": [
        "AUTOTUNE = tf.data.AUTOTUNE\r\n",
        "\r\n",
        "train_ds = train_ds.cache().prefetch(buffer_size=AUTOTUNE)\r\n",
        "val_ds = val_ds.cache().prefetch(buffer_size=AUTOTUNE)\r\n",
        "test_ds = test_ds.cache().prefetch(buffer_size=AUTOTUNE)"
      ],
      "execution_count": 97,
      "outputs": []
    },
    {
      "cell_type": "markdown",
      "metadata": {
        "id": "gBwRErMp_tYi"
      },
      "source": [
        "# Build model"
      ]
    },
    {
      "cell_type": "code",
      "metadata": {
        "id": "WHXY0uG3wkKo"
      },
      "source": [
        "embedding_dim = 16"
      ],
      "execution_count": 106,
      "outputs": []
    },
    {
      "cell_type": "code",
      "metadata": {
        "colab": {
          "base_uri": "https://localhost:8080/"
        },
        "id": "UZuPvKjdxGOo",
        "outputId": "6b15419b-2887-47f7-fe33-e9aefc1179c7"
      },
      "source": [
        "model = tf.keras.Sequential([\r\n",
        "  layers.Embedding(max_features + 1, embedding_dim),\r\n",
        "  layers.Dropout(0.2),\r\n",
        "  layers.GlobalAveragePooling1D(),\r\n",
        "  layers.Dropout(0.2),\r\n",
        "  layers.Dense(4)])\r\n",
        "\r\n",
        "model.summary()"
      ],
      "execution_count": 107,
      "outputs": [
        {
          "output_type": "stream",
          "text": [
            "Model: \"sequential_5\"\n",
            "_________________________________________________________________\n",
            "Layer (type)                 Output Shape              Param #   \n",
            "=================================================================\n",
            "embedding_5 (Embedding)      (None, None, 16)          80016     \n",
            "_________________________________________________________________\n",
            "dropout_10 (Dropout)         (None, None, 16)          0         \n",
            "_________________________________________________________________\n",
            "global_average_pooling1d_5 ( (None, 16)                0         \n",
            "_________________________________________________________________\n",
            "dropout_11 (Dropout)         (None, 16)                0         \n",
            "_________________________________________________________________\n",
            "dense_5 (Dense)              (None, 4)                 68        \n",
            "=================================================================\n",
            "Total params: 80,084\n",
            "Trainable params: 80,084\n",
            "Non-trainable params: 0\n",
            "_________________________________________________________________\n"
          ],
          "name": "stdout"
        }
      ]
    },
    {
      "cell_type": "code",
      "metadata": {
        "id": "IM--jkDnxYO-"
      },
      "source": [
        "model.compile(loss=losses.SparseCategoricalCrossentropy(from_logits=True),\r\n",
        "              optimizer='adam',\r\n",
        "              metrics=['accuracy'])"
      ],
      "execution_count": 108,
      "outputs": []
    },
    {
      "cell_type": "code",
      "metadata": {
        "colab": {
          "base_uri": "https://localhost:8080/"
        },
        "id": "AEiKg46Zxl9F",
        "outputId": "6577e8d0-208e-4e23-8ec3-6cd3983c205d"
      },
      "source": [
        "epochs = 50\r\n",
        "history = model.fit(\r\n",
        "    train_ds,\r\n",
        "    validation_data=val_ds,\r\n",
        "    epochs=epochs)"
      ],
      "execution_count": 109,
      "outputs": [
        {
          "output_type": "stream",
          "text": [
            "Epoch 1/50\n",
            "200/200 [==============================] - 2s 9ms/step - loss: 1.3850 - accuracy: 0.2766 - val_loss: 1.3772 - val_accuracy: 0.3225\n",
            "Epoch 2/50\n",
            "200/200 [==============================] - 2s 8ms/step - loss: 1.3742 - accuracy: 0.3635 - val_loss: 1.3601 - val_accuracy: 0.4013\n",
            "Epoch 3/50\n",
            "200/200 [==============================] - 2s 8ms/step - loss: 1.3549 - accuracy: 0.4514 - val_loss: 1.3333 - val_accuracy: 0.4494\n",
            "Epoch 4/50\n",
            "200/200 [==============================] - 2s 8ms/step - loss: 1.3243 - accuracy: 0.5063 - val_loss: 1.2982 - val_accuracy: 0.4850\n",
            "Epoch 5/50\n",
            "200/200 [==============================] - 1s 8ms/step - loss: 1.2847 - accuracy: 0.5480 - val_loss: 1.2569 - val_accuracy: 0.5219\n",
            "Epoch 6/50\n",
            "200/200 [==============================] - 2s 8ms/step - loss: 1.2397 - accuracy: 0.5867 - val_loss: 1.2125 - val_accuracy: 0.5431\n",
            "Epoch 7/50\n",
            "200/200 [==============================] - 2s 8ms/step - loss: 1.1906 - accuracy: 0.6108 - val_loss: 1.1676 - val_accuracy: 0.5819\n",
            "Epoch 8/50\n",
            "200/200 [==============================] - 2s 8ms/step - loss: 1.1388 - accuracy: 0.6428 - val_loss: 1.1243 - val_accuracy: 0.6125\n",
            "Epoch 9/50\n",
            "200/200 [==============================] - 2s 8ms/step - loss: 1.0900 - accuracy: 0.6631 - val_loss: 1.0823 - val_accuracy: 0.6488\n",
            "Epoch 10/50\n",
            "200/200 [==============================] - 2s 8ms/step - loss: 1.0428 - accuracy: 0.6931 - val_loss: 1.0438 - val_accuracy: 0.6719\n",
            "Epoch 11/50\n",
            "200/200 [==============================] - 2s 8ms/step - loss: 0.9988 - accuracy: 0.7052 - val_loss: 1.0080 - val_accuracy: 0.6869\n",
            "Epoch 12/50\n",
            "200/200 [==============================] - 2s 8ms/step - loss: 0.9580 - accuracy: 0.7139 - val_loss: 0.9744 - val_accuracy: 0.7013\n",
            "Epoch 13/50\n",
            "200/200 [==============================] - 2s 8ms/step - loss: 0.9160 - accuracy: 0.7345 - val_loss: 0.9438 - val_accuracy: 0.7069\n",
            "Epoch 14/50\n",
            "200/200 [==============================] - 2s 8ms/step - loss: 0.8808 - accuracy: 0.7547 - val_loss: 0.9155 - val_accuracy: 0.7175\n",
            "Epoch 15/50\n",
            "200/200 [==============================] - 2s 8ms/step - loss: 0.8531 - accuracy: 0.7520 - val_loss: 0.8897 - val_accuracy: 0.7231\n",
            "Epoch 16/50\n",
            "200/200 [==============================] - 2s 8ms/step - loss: 0.8223 - accuracy: 0.7639 - val_loss: 0.8660 - val_accuracy: 0.7300\n",
            "Epoch 17/50\n",
            "200/200 [==============================] - 2s 8ms/step - loss: 0.7941 - accuracy: 0.7740 - val_loss: 0.8450 - val_accuracy: 0.7312\n",
            "Epoch 18/50\n",
            "200/200 [==============================] - 2s 8ms/step - loss: 0.7647 - accuracy: 0.7885 - val_loss: 0.8253 - val_accuracy: 0.7350\n",
            "Epoch 19/50\n",
            "200/200 [==============================] - 2s 8ms/step - loss: 0.7422 - accuracy: 0.7838 - val_loss: 0.8077 - val_accuracy: 0.7444\n",
            "Epoch 20/50\n",
            "200/200 [==============================] - 2s 8ms/step - loss: 0.7229 - accuracy: 0.7870 - val_loss: 0.7907 - val_accuracy: 0.7462\n",
            "Epoch 21/50\n",
            "200/200 [==============================] - 2s 8ms/step - loss: 0.6981 - accuracy: 0.7952 - val_loss: 0.7752 - val_accuracy: 0.7506\n",
            "Epoch 22/50\n",
            "200/200 [==============================] - 2s 8ms/step - loss: 0.6770 - accuracy: 0.8011 - val_loss: 0.7600 - val_accuracy: 0.7525\n",
            "Epoch 23/50\n",
            "200/200 [==============================] - 2s 8ms/step - loss: 0.6619 - accuracy: 0.7988 - val_loss: 0.7476 - val_accuracy: 0.7525\n",
            "Epoch 24/50\n",
            "200/200 [==============================] - 2s 8ms/step - loss: 0.6432 - accuracy: 0.8048 - val_loss: 0.7345 - val_accuracy: 0.7550\n",
            "Epoch 25/50\n",
            "200/200 [==============================] - 2s 8ms/step - loss: 0.6247 - accuracy: 0.8178 - val_loss: 0.7230 - val_accuracy: 0.7563\n",
            "Epoch 26/50\n",
            "200/200 [==============================] - 2s 8ms/step - loss: 0.6092 - accuracy: 0.8208 - val_loss: 0.7124 - val_accuracy: 0.7600\n",
            "Epoch 27/50\n",
            "200/200 [==============================] - 2s 8ms/step - loss: 0.5918 - accuracy: 0.8224 - val_loss: 0.7029 - val_accuracy: 0.7600\n",
            "Epoch 28/50\n",
            "200/200 [==============================] - 2s 8ms/step - loss: 0.5829 - accuracy: 0.8183 - val_loss: 0.6933 - val_accuracy: 0.7619\n",
            "Epoch 29/50\n",
            "200/200 [==============================] - 2s 8ms/step - loss: 0.5656 - accuracy: 0.8241 - val_loss: 0.6843 - val_accuracy: 0.7663\n",
            "Epoch 30/50\n",
            "200/200 [==============================] - 2s 8ms/step - loss: 0.5518 - accuracy: 0.8332 - val_loss: 0.6768 - val_accuracy: 0.7675\n",
            "Epoch 31/50\n",
            "200/200 [==============================] - 2s 8ms/step - loss: 0.5420 - accuracy: 0.8353 - val_loss: 0.6692 - val_accuracy: 0.7700\n",
            "Epoch 32/50\n",
            "200/200 [==============================] - 2s 8ms/step - loss: 0.5278 - accuracy: 0.8432 - val_loss: 0.6623 - val_accuracy: 0.7719\n",
            "Epoch 33/50\n",
            "200/200 [==============================] - 2s 8ms/step - loss: 0.5183 - accuracy: 0.8440 - val_loss: 0.6550 - val_accuracy: 0.7756\n",
            "Epoch 34/50\n",
            "200/200 [==============================] - 2s 8ms/step - loss: 0.5037 - accuracy: 0.8438 - val_loss: 0.6487 - val_accuracy: 0.7775\n",
            "Epoch 35/50\n",
            "200/200 [==============================] - 2s 8ms/step - loss: 0.4957 - accuracy: 0.8463 - val_loss: 0.6446 - val_accuracy: 0.7756\n",
            "Epoch 36/50\n",
            "200/200 [==============================] - 2s 8ms/step - loss: 0.4843 - accuracy: 0.8480 - val_loss: 0.6389 - val_accuracy: 0.7763\n",
            "Epoch 37/50\n",
            "200/200 [==============================] - 2s 8ms/step - loss: 0.4750 - accuracy: 0.8578 - val_loss: 0.6331 - val_accuracy: 0.7800\n",
            "Epoch 38/50\n",
            "200/200 [==============================] - 2s 8ms/step - loss: 0.4618 - accuracy: 0.8622 - val_loss: 0.6290 - val_accuracy: 0.7794\n",
            "Epoch 39/50\n",
            "200/200 [==============================] - 2s 8ms/step - loss: 0.4596 - accuracy: 0.8650 - val_loss: 0.6243 - val_accuracy: 0.7800\n",
            "Epoch 40/50\n",
            "200/200 [==============================] - 2s 8ms/step - loss: 0.4515 - accuracy: 0.8642 - val_loss: 0.6210 - val_accuracy: 0.7806\n",
            "Epoch 41/50\n",
            "200/200 [==============================] - 2s 8ms/step - loss: 0.4386 - accuracy: 0.8664 - val_loss: 0.6172 - val_accuracy: 0.7788\n",
            "Epoch 42/50\n",
            "200/200 [==============================] - 2s 8ms/step - loss: 0.4298 - accuracy: 0.8697 - val_loss: 0.6145 - val_accuracy: 0.7800\n",
            "Epoch 43/50\n",
            "200/200 [==============================] - 2s 8ms/step - loss: 0.4224 - accuracy: 0.8753 - val_loss: 0.6100 - val_accuracy: 0.7844\n",
            "Epoch 44/50\n",
            "200/200 [==============================] - 2s 8ms/step - loss: 0.4134 - accuracy: 0.8765 - val_loss: 0.6082 - val_accuracy: 0.7825\n",
            "Epoch 45/50\n",
            "200/200 [==============================] - 2s 8ms/step - loss: 0.4062 - accuracy: 0.8811 - val_loss: 0.6051 - val_accuracy: 0.7819\n",
            "Epoch 46/50\n",
            "200/200 [==============================] - 1s 7ms/step - loss: 0.3996 - accuracy: 0.8844 - val_loss: 0.6022 - val_accuracy: 0.7856\n",
            "Epoch 47/50\n",
            "200/200 [==============================] - 2s 8ms/step - loss: 0.3932 - accuracy: 0.8852 - val_loss: 0.5999 - val_accuracy: 0.7844\n",
            "Epoch 48/50\n",
            "200/200 [==============================] - 2s 8ms/step - loss: 0.3864 - accuracy: 0.8866 - val_loss: 0.5982 - val_accuracy: 0.7856\n",
            "Epoch 49/50\n",
            "200/200 [==============================] - 2s 8ms/step - loss: 0.3773 - accuracy: 0.8863 - val_loss: 0.5973 - val_accuracy: 0.7869\n",
            "Epoch 50/50\n",
            "200/200 [==============================] - 2s 8ms/step - loss: 0.3719 - accuracy: 0.8892 - val_loss: 0.5946 - val_accuracy: 0.7919\n"
          ],
          "name": "stdout"
        }
      ]
    },
    {
      "cell_type": "code",
      "metadata": {
        "colab": {
          "base_uri": "https://localhost:8080/"
        },
        "id": "MeNXe0sNDRMy",
        "outputId": "8cddccae-8fa3-4122-f9b3-a9119d6ef09c"
      },
      "source": [
        "epochs = 50\r\n",
        "history2 = model.fit(\r\n",
        "    train_ds,\r\n",
        "    validation_data=val_ds,\r\n",
        "    epochs=epochs)"
      ],
      "execution_count": 118,
      "outputs": [
        {
          "output_type": "stream",
          "text": [
            "Epoch 1/50\n",
            "200/200 [==============================] - 2s 8ms/step - loss: 0.3602 - accuracy: 0.8952 - val_loss: 0.5929 - val_accuracy: 0.7919\n",
            "Epoch 2/50\n",
            "200/200 [==============================] - 1s 7ms/step - loss: 0.3550 - accuracy: 0.8963 - val_loss: 0.5919 - val_accuracy: 0.7931\n",
            "Epoch 3/50\n",
            "200/200 [==============================] - 2s 8ms/step - loss: 0.3470 - accuracy: 0.8978 - val_loss: 0.5904 - val_accuracy: 0.7944\n",
            "Epoch 4/50\n",
            "200/200 [==============================] - 2s 8ms/step - loss: 0.3409 - accuracy: 0.9033 - val_loss: 0.5902 - val_accuracy: 0.7944\n",
            "Epoch 5/50\n",
            "200/200 [==============================] - 2s 8ms/step - loss: 0.3334 - accuracy: 0.9030 - val_loss: 0.5887 - val_accuracy: 0.7937\n",
            "Epoch 6/50\n",
            "200/200 [==============================] - 2s 8ms/step - loss: 0.3315 - accuracy: 0.9038 - val_loss: 0.5900 - val_accuracy: 0.7956\n",
            "Epoch 7/50\n",
            "200/200 [==============================] - 2s 8ms/step - loss: 0.3234 - accuracy: 0.9045 - val_loss: 0.5878 - val_accuracy: 0.7962\n",
            "Epoch 8/50\n",
            "200/200 [==============================] - 2s 8ms/step - loss: 0.3177 - accuracy: 0.9080 - val_loss: 0.5888 - val_accuracy: 0.7950\n",
            "Epoch 9/50\n",
            "200/200 [==============================] - 2s 8ms/step - loss: 0.3157 - accuracy: 0.9084 - val_loss: 0.5879 - val_accuracy: 0.7969\n",
            "Epoch 10/50\n",
            "200/200 [==============================] - 2s 8ms/step - loss: 0.3074 - accuracy: 0.9127 - val_loss: 0.5877 - val_accuracy: 0.7962\n",
            "Epoch 11/50\n",
            "200/200 [==============================] - 2s 8ms/step - loss: 0.3017 - accuracy: 0.9127 - val_loss: 0.5881 - val_accuracy: 0.7975\n",
            "Epoch 12/50\n",
            "200/200 [==============================] - 2s 8ms/step - loss: 0.2953 - accuracy: 0.9172 - val_loss: 0.5893 - val_accuracy: 0.7969\n",
            "Epoch 13/50\n",
            "200/200 [==============================] - 2s 8ms/step - loss: 0.2935 - accuracy: 0.9148 - val_loss: 0.5891 - val_accuracy: 0.7956\n",
            "Epoch 14/50\n",
            "200/200 [==============================] - 1s 7ms/step - loss: 0.2880 - accuracy: 0.9170 - val_loss: 0.5899 - val_accuracy: 0.7962\n",
            "Epoch 15/50\n",
            "200/200 [==============================] - 1s 7ms/step - loss: 0.2824 - accuracy: 0.9197 - val_loss: 0.5893 - val_accuracy: 0.7969\n",
            "Epoch 16/50\n",
            "200/200 [==============================] - 2s 8ms/step - loss: 0.2806 - accuracy: 0.9205 - val_loss: 0.5923 - val_accuracy: 0.7969\n",
            "Epoch 17/50\n",
            "200/200 [==============================] - 2s 8ms/step - loss: 0.2764 - accuracy: 0.9216 - val_loss: 0.5926 - val_accuracy: 0.7975\n",
            "Epoch 18/50\n",
            "200/200 [==============================] - 2s 8ms/step - loss: 0.2693 - accuracy: 0.9259 - val_loss: 0.5924 - val_accuracy: 0.7962\n",
            "Epoch 19/50\n",
            "200/200 [==============================] - 1s 7ms/step - loss: 0.2671 - accuracy: 0.9242 - val_loss: 0.5944 - val_accuracy: 0.7975\n",
            "Epoch 20/50\n",
            "200/200 [==============================] - 2s 8ms/step - loss: 0.2624 - accuracy: 0.9281 - val_loss: 0.5944 - val_accuracy: 0.7987\n",
            "Epoch 21/50\n",
            "200/200 [==============================] - 2s 8ms/step - loss: 0.2605 - accuracy: 0.9264 - val_loss: 0.5948 - val_accuracy: 0.7981\n",
            "Epoch 22/50\n",
            "200/200 [==============================] - 2s 8ms/step - loss: 0.2589 - accuracy: 0.9277 - val_loss: 0.5975 - val_accuracy: 0.7987\n",
            "Epoch 23/50\n",
            "200/200 [==============================] - 2s 8ms/step - loss: 0.2508 - accuracy: 0.9289 - val_loss: 0.5999 - val_accuracy: 0.8006\n",
            "Epoch 24/50\n",
            "200/200 [==============================] - 2s 8ms/step - loss: 0.2463 - accuracy: 0.9337 - val_loss: 0.6004 - val_accuracy: 0.7975\n",
            "Epoch 25/50\n",
            "200/200 [==============================] - 2s 8ms/step - loss: 0.2411 - accuracy: 0.9392 - val_loss: 0.6016 - val_accuracy: 0.7994\n",
            "Epoch 26/50\n",
            "200/200 [==============================] - 2s 8ms/step - loss: 0.2378 - accuracy: 0.9355 - val_loss: 0.6030 - val_accuracy: 0.7987\n",
            "Epoch 27/50\n",
            "200/200 [==============================] - 1s 7ms/step - loss: 0.2344 - accuracy: 0.9353 - val_loss: 0.6040 - val_accuracy: 0.7962\n",
            "Epoch 28/50\n",
            "200/200 [==============================] - 1s 7ms/step - loss: 0.2300 - accuracy: 0.9381 - val_loss: 0.6062 - val_accuracy: 0.7987\n",
            "Epoch 29/50\n",
            "200/200 [==============================] - 2s 8ms/step - loss: 0.2282 - accuracy: 0.9364 - val_loss: 0.6081 - val_accuracy: 0.7975\n",
            "Epoch 30/50\n",
            "200/200 [==============================] - 2s 8ms/step - loss: 0.2246 - accuracy: 0.9380 - val_loss: 0.6116 - val_accuracy: 0.7981\n",
            "Epoch 31/50\n",
            "200/200 [==============================] - 2s 8ms/step - loss: 0.2240 - accuracy: 0.9420 - val_loss: 0.6136 - val_accuracy: 0.7994\n",
            "Epoch 32/50\n",
            "200/200 [==============================] - 2s 8ms/step - loss: 0.2185 - accuracy: 0.9458 - val_loss: 0.6146 - val_accuracy: 0.7994\n",
            "Epoch 33/50\n",
            "200/200 [==============================] - 2s 8ms/step - loss: 0.2145 - accuracy: 0.9438 - val_loss: 0.6151 - val_accuracy: 0.7975\n",
            "Epoch 34/50\n",
            "200/200 [==============================] - 2s 8ms/step - loss: 0.2126 - accuracy: 0.9431 - val_loss: 0.6148 - val_accuracy: 0.7981\n",
            "Epoch 35/50\n",
            "200/200 [==============================] - 2s 8ms/step - loss: 0.2074 - accuracy: 0.9459 - val_loss: 0.6201 - val_accuracy: 0.7987\n",
            "Epoch 36/50\n",
            "200/200 [==============================] - 2s 8ms/step - loss: 0.2051 - accuracy: 0.9466 - val_loss: 0.6226 - val_accuracy: 0.7969\n",
            "Epoch 37/50\n",
            "200/200 [==============================] - 2s 8ms/step - loss: 0.2005 - accuracy: 0.9466 - val_loss: 0.6231 - val_accuracy: 0.7962\n",
            "Epoch 38/50\n",
            "200/200 [==============================] - 2s 8ms/step - loss: 0.1981 - accuracy: 0.9498 - val_loss: 0.6276 - val_accuracy: 0.7956\n",
            "Epoch 39/50\n",
            "200/200 [==============================] - 2s 8ms/step - loss: 0.1937 - accuracy: 0.9509 - val_loss: 0.6304 - val_accuracy: 0.7937\n",
            "Epoch 40/50\n",
            "200/200 [==============================] - 2s 8ms/step - loss: 0.1957 - accuracy: 0.9489 - val_loss: 0.6321 - val_accuracy: 0.7962\n",
            "Epoch 41/50\n",
            "200/200 [==============================] - 2s 8ms/step - loss: 0.1885 - accuracy: 0.9498 - val_loss: 0.6358 - val_accuracy: 0.7975\n",
            "Epoch 42/50\n",
            "200/200 [==============================] - 2s 8ms/step - loss: 0.1847 - accuracy: 0.9517 - val_loss: 0.6362 - val_accuracy: 0.7969\n",
            "Epoch 43/50\n",
            "200/200 [==============================] - 2s 8ms/step - loss: 0.1866 - accuracy: 0.9492 - val_loss: 0.6404 - val_accuracy: 0.7944\n",
            "Epoch 44/50\n",
            "200/200 [==============================] - 2s 8ms/step - loss: 0.1820 - accuracy: 0.9553 - val_loss: 0.6446 - val_accuracy: 0.7962\n",
            "Epoch 45/50\n",
            "200/200 [==============================] - 2s 8ms/step - loss: 0.1765 - accuracy: 0.9578 - val_loss: 0.6477 - val_accuracy: 0.7962\n",
            "Epoch 46/50\n",
            "200/200 [==============================] - 2s 8ms/step - loss: 0.1781 - accuracy: 0.9566 - val_loss: 0.6465 - val_accuracy: 0.7962\n",
            "Epoch 47/50\n",
            "200/200 [==============================] - 2s 8ms/step - loss: 0.1751 - accuracy: 0.9569 - val_loss: 0.6518 - val_accuracy: 0.7937\n",
            "Epoch 48/50\n",
            "200/200 [==============================] - 2s 8ms/step - loss: 0.1711 - accuracy: 0.9589 - val_loss: 0.6534 - val_accuracy: 0.7962\n",
            "Epoch 49/50\n",
            "200/200 [==============================] - 2s 8ms/step - loss: 0.1712 - accuracy: 0.9538 - val_loss: 0.6545 - val_accuracy: 0.7944\n",
            "Epoch 50/50\n",
            "200/200 [==============================] - 2s 8ms/step - loss: 0.1664 - accuracy: 0.9589 - val_loss: 0.6581 - val_accuracy: 0.7981\n"
          ],
          "name": "stdout"
        }
      ]
    },
    {
      "cell_type": "markdown",
      "metadata": {
        "id": "DfBI0qcl_z-q"
      },
      "source": [
        "#Evaluate model"
      ]
    },
    {
      "cell_type": "code",
      "metadata": {
        "colab": {
          "base_uri": "https://localhost:8080/"
        },
        "id": "-lA4RMnBx_dc",
        "outputId": "0745620c-98d2-44b5-c50a-e4fb4b36c14f"
      },
      "source": [
        "loss, accuracy = model.evaluate(test_ds)\r\n",
        "\r\n",
        "print(\"Loss: \", loss)\r\n",
        "print(\"Accuracy: \", accuracy)"
      ],
      "execution_count": 114,
      "outputs": [
        {
          "output_type": "stream",
          "text": [
            "250/250 [==============================] - 0s 1ms/step - loss: 0.3914 - accuracy: 0.8817\n",
            "Loss:  0.3914448618888855\n",
            "Accuracy:  0.8817499876022339\n"
          ],
          "name": "stdout"
        }
      ]
    },
    {
      "cell_type": "code",
      "metadata": {
        "colab": {
          "base_uri": "https://localhost:8080/"
        },
        "id": "OnG48cpu_Ccl",
        "outputId": "bbaa18f1-3d01-4c62-b2d2-d06714668312"
      },
      "source": [
        "history_dict = history.history\r\n",
        "history_dict.keys()"
      ],
      "execution_count": 115,
      "outputs": [
        {
          "output_type": "execute_result",
          "data": {
            "text/plain": [
              "dict_keys(['loss', 'accuracy', 'val_loss', 'val_accuracy'])"
            ]
          },
          "metadata": {
            "tags": []
          },
          "execution_count": 115
        }
      ]
    },
    {
      "cell_type": "code",
      "metadata": {
        "colab": {
          "base_uri": "https://localhost:8080/",
          "height": 295
        },
        "id": "bLYuCstl_D_m",
        "outputId": "0f7f3a3d-4b87-474e-b424-a33472294e4e"
      },
      "source": [
        "acc = history_dict['accuracy']\r\n",
        "val_acc = history_dict['val_accuracy']\r\n",
        "loss = history_dict['loss']\r\n",
        "val_loss = history_dict['val_loss']\r\n",
        "\r\n",
        "epochs = range(1, len(acc) + 1)\r\n",
        "\r\n",
        "# \"bo\" is for \"blue dot\"\r\n",
        "plt.plot(epochs, loss, 'bo', label='Training loss')\r\n",
        "# b is for \"solid blue line\"\r\n",
        "plt.plot(epochs, val_loss, 'b', label='Validation loss')\r\n",
        "plt.title('Training and validation loss')\r\n",
        "plt.xlabel('Epochs')\r\n",
        "plt.ylabel('Loss')\r\n",
        "plt.legend()\r\n",
        "\r\n",
        "plt.show()"
      ],
      "execution_count": 116,
      "outputs": [
        {
          "output_type": "display_data",
          "data": {
            "image/png": "[encoded data removed]",
            "text/plain": [
              "<Figure size 432x288 with 1 Axes>"
            ]
          },
          "metadata": {
            "tags": [],
            "needs_background": "light"
          }
        }
      ]
    },
    {
      "cell_type": "code",
      "metadata": {
        "colab": {
          "base_uri": "https://localhost:8080/",
          "height": 295
        },
        "id": "rjF-6_hc_Mtm",
        "outputId": "521b8a49-4f4d-4ba0-ed41-15b033338ec9"
      },
      "source": [
        "plt.plot(epochs, acc, 'bo', label='Training acc')\r\n",
        "plt.plot(epochs, val_acc, 'b', label='Validation acc')\r\n",
        "plt.title('Training and validation accuracy')\r\n",
        "plt.xlabel('Epochs')\r\n",
        "plt.ylabel('Accuracy')\r\n",
        "plt.legend(loc='lower right')\r\n",
        "\r\n",
        "plt.show()"
      ],
      "execution_count": 117,
      "outputs": [
        {
          "output_type": "display_data",
          "data": {
            "image/png": "[encoded data removed]",
            "text/plain": [
              "<Figure size 432x288 with 1 Axes>"
            ]
          },
          "metadata": {
            "tags": [],
            "needs_background": "light"
          }
        }
      ]
    },
    {
      "cell_type": "code",
      "metadata": {
        "colab": {
          "base_uri": "https://localhost:8080/"
        },
        "id": "YnyciPVtDrUh",
        "outputId": "613d279d-4271-4a56-bb94-07ea9190eb37"
      },
      "source": [
        "history_dict = history2.history\r\n",
        "history_dict.keys()"
      ],
      "execution_count": 119,
      "outputs": [
        {
          "output_type": "execute_result",
          "data": {
            "text/plain": [
              "dict_keys(['loss', 'accuracy', 'val_loss', 'val_accuracy'])"
            ]
          },
          "metadata": {
            "tags": []
          },
          "execution_count": 119
        }
      ]
    },
    {
      "cell_type": "code",
      "metadata": {
        "colab": {
          "base_uri": "https://localhost:8080/",
          "height": 295
        },
        "id": "v-ky_Kj9Dubw",
        "outputId": "975dde26-8bc6-48c2-9819-44e06c7689cb"
      },
      "source": [
        "acc = history_dict['accuracy']\r\n",
        "val_acc = history_dict['val_accuracy']\r\n",
        "loss = history_dict['loss']\r\n",
        "val_loss = history_dict['val_loss']\r\n",
        "\r\n",
        "epochs = range(1, len(acc) + 1)\r\n",
        "\r\n",
        "# \"bo\" is for \"blue dot\"\r\n",
        "plt.plot(epochs, loss, 'bo', label='Training loss')\r\n",
        "# b is for \"solid blue line\"\r\n",
        "plt.plot(epochs, val_loss, 'b', label='Validation loss')\r\n",
        "plt.title('Training and validation loss')\r\n",
        "plt.xlabel('Epochs')\r\n",
        "plt.ylabel('Loss')\r\n",
        "plt.legend()\r\n",
        "\r\n",
        "plt.show()"
      ],
      "execution_count": 120,
      "outputs": [
        {
          "output_type": "display_data",
          "data": {
            "image/png": "[encoded data removed]",
            "text/plain": [
              "<Figure size 432x288 with 1 Axes>"
            ]
          },
          "metadata": {
            "tags": [],
            "needs_background": "light"
          }
        }
      ]
    },
    {
      "cell_type": "code",
      "metadata": {
        "colab": {
          "base_uri": "https://localhost:8080/",
          "height": 295
        },
        "id": "LOo2kKuqD0ga",
        "outputId": "1a318dbf-65a5-479c-827a-078aac3ea197"
      },
      "source": [
        "plt.plot(epochs, acc, 'bo', label='Training acc')\r\n",
        "plt.plot(epochs, val_acc, 'b', label='Validation acc')\r\n",
        "plt.title('Training and validation accuracy')\r\n",
        "plt.xlabel('Epochs')\r\n",
        "plt.ylabel('Accuracy')\r\n",
        "plt.legend(loc='lower right')\r\n",
        "\r\n",
        "plt.show()"
      ],
      "execution_count": 121,
      "outputs": [
        {
          "output_type": "display_data",
          "data": {
            "image/png": "[encoded data removed]",
            "text/plain": [
              "<Figure size 432x288 with 1 Axes>"
            ]
          },
          "metadata": {
            "tags": [],
            "needs_background": "light"
          }
        }
      ]
    }
  ]
}