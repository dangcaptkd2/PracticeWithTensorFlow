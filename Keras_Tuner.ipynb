{
  "nbformat": 4,
  "nbformat_minor": 0,
  "metadata": {
    "colab": {
      "name": "Keras-Tuner.ipynb",
      "provenance": [],
      "toc_visible": true,
      "authorship_tag": "ABX9TyMf2aO5bab0FrzhPWHLVd5w",
      "include_colab_link": true
    },
    "kernelspec": {
      "name": "python3",
      "display_name": "Python 3"
    }
  },
  "cells": [
    {
      "cell_type": "markdown",
      "metadata": {
        "id": "view-in-github",
        "colab_type": "text"
      },
      "source": [
        "<a href=\"https://colab.research.google.com/github/dangcaptkd2/PracticeWithTensorFlow/blob/main/Keras_Tuner.ipynb\" target=\"_parent\"><img src=\"https://colab.research.google.com/assets/colab-badge.svg\" alt=\"Open In Colab\"/></a>"
      ]
    },
    {
      "cell_type": "markdown",
      "metadata": {
        "id": "qNWlbj91KbGs"
      },
      "source": [
        "# Set up"
      ]
    },
    {
      "cell_type": "code",
      "metadata": {
        "id": "LtxEnbYUJ8Vg"
      },
      "source": [
        "import tensorflow as tf\r\n",
        "from tensorflow import keras"
      ],
      "execution_count": null,
      "outputs": []
    },
    {
      "cell_type": "code",
      "metadata": {
        "colab": {
          "base_uri": "https://localhost:8080/"
        },
        "id": "-Ra43HT-KUPM",
        "outputId": "072ea9a3-c3d4-441e-cc44-1acaf9ed0c12"
      },
      "source": [
        "!pip install -q -U keras-tuner"
      ],
      "execution_count": null,
      "outputs": [
        {
          "output_type": "stream",
          "text": [
            "\u001b[?25l\r\u001b[K     |█████▏                          | 10kB 17.0MB/s eta 0:00:01\r\u001b[K     |██████████▍                     | 20kB 11.3MB/s eta 0:00:01\r\u001b[K     |███████████████▋                | 30kB 8.3MB/s eta 0:00:01\r\u001b[K     |████████████████████▉           | 40kB 7.3MB/s eta 0:00:01\r\u001b[K     |██████████████████████████      | 51kB 4.4MB/s eta 0:00:01\r\u001b[K     |███████████████████████████████▎| 61kB 5.0MB/s eta 0:00:01\r\u001b[K     |████████████████████████████████| 71kB 3.3MB/s \n",
            "\u001b[?25h  Building wheel for keras-tuner (setup.py) ... \u001b[?25l\u001b[?25hdone\n",
            "  Building wheel for terminaltables (setup.py) ... \u001b[?25l\u001b[?25hdone\n"
          ],
          "name": "stdout"
        }
      ]
    },
    {
      "cell_type": "code",
      "metadata": {
        "id": "qUbm7pImKQaf"
      },
      "source": [
        "import kerastuner as kt"
      ],
      "execution_count": null,
      "outputs": []
    },
    {
      "cell_type": "markdown",
      "metadata": {
        "id": "Bjv3CK8bKfEg"
      },
      "source": [
        "# Download and prepare dataset"
      ]
    },
    {
      "cell_type": "code",
      "metadata": {
        "colab": {
          "base_uri": "https://localhost:8080/"
        },
        "id": "zQZu26a5KhQ8",
        "outputId": "05bddb0c-c7d1-4cab-8cb5-093c53a877f3"
      },
      "source": [
        "(img_train, label_train), (img_test, label_test) = keras.datasets.fashion_mnist.load_data()"
      ],
      "execution_count": null,
      "outputs": [
        {
          "output_type": "stream",
          "text": [
            "Downloading data from https://storage.googleapis.com/tensorflow/tf-keras-datasets/train-labels-idx1-ubyte.gz\n",
            "32768/29515 [=================================] - 0s 0us/step\n",
            "Downloading data from https://storage.googleapis.com/tensorflow/tf-keras-datasets/train-images-idx3-ubyte.gz\n",
            "26427392/26421880 [==============================] - 0s 0us/step\n",
            "Downloading data from https://storage.googleapis.com/tensorflow/tf-keras-datasets/t10k-labels-idx1-ubyte.gz\n",
            "8192/5148 [===============================================] - 0s 0us/step\n",
            "Downloading data from https://storage.googleapis.com/tensorflow/tf-keras-datasets/t10k-images-idx3-ubyte.gz\n",
            "4423680/4422102 [==============================] - 0s 0us/step\n"
          ],
          "name": "stdout"
        }
      ]
    },
    {
      "cell_type": "code",
      "metadata": {
        "id": "lpcQptCiKZf3"
      },
      "source": [
        "# Normalize pixel values between 0 and 1\r\n",
        "img_train = img_train.astype('float32') / 255.0\r\n",
        "img_test = img_test.astype('float32') / 255.0"
      ],
      "execution_count": null,
      "outputs": []
    },
    {
      "cell_type": "markdown",
      "metadata": {
        "id": "nEeT9veSKm4y"
      },
      "source": [
        "# Define the model"
      ]
    },
    {
      "cell_type": "markdown",
      "metadata": {
        "id": "DE1WCtMPLA01"
      },
      "source": [
        "Use a model builder function to define the image classification model"
      ]
    },
    {
      "cell_type": "code",
      "metadata": {
        "id": "l1r-mBnOLDbv"
      },
      "source": [
        "def model_builder(hp):\r\n",
        "  model = keras.Sequential()\r\n",
        "  model.add(keras.layers.Flatten(input_shape=(28, 28)))\r\n",
        "\r\n",
        "  # Tune the number of units in the first Dense layer\r\n",
        "  # Choose an optimal value between 32-512\r\n",
        "  hp_units = hp.Int('units', min_value=32, max_value=512, step=32)\r\n",
        "  model.add(keras.layers.Dense(units=hp_units, activation='relu'))\r\n",
        "  model.add(keras.layers.Dense(10))\r\n",
        "\r\n",
        "  # Tune the learning rate for the optimizer\r\n",
        "  # Choose an optimal value from 0.01, 0.001, or 0.0001\r\n",
        "  hp_learning_rate = hp.Choice('learning_rate', values=[1e-2, 1e-3, 1e-4])\r\n",
        "\r\n",
        "  model.compile(optimizer=keras.optimizers.Adam(learning_rate=hp_learning_rate),\r\n",
        "                loss=keras.losses.SparseCategoricalCrossentropy(from_logits=True),\r\n",
        "                metrics=['accuracy'])\r\n",
        "\r\n",
        "  return model"
      ],
      "execution_count": null,
      "outputs": []
    },
    {
      "cell_type": "markdown",
      "metadata": {
        "id": "Pg38_EIPMOFz"
      },
      "source": [
        "#Instantiate the tuner and perform hypertuning"
      ]
    },
    {
      "cell_type": "markdown",
      "metadata": {
        "id": "I5lwZrTBMYKQ"
      },
      "source": [
        "Instantiate the tuner to perform the hypertuning. The Keras Tuner has four tuners available - ```RandomSearch```, ```Hyperband```, ```BayesianOptimization```, and ```Sklearn```. \r\n",
        "\r\n",
        "We use Hyperband tuner in this tutorial\r\n",
        "\r\n",
        "To instantiate the Hyperband tuner, we must specify the hypermodel, the objective to optimize and the maximum number of epochs to train (max_epochs).\r\n",
        "\r\n",
        "\r\n",
        "\r\n",
        "\r\n"
      ]
    },
    {
      "cell_type": "code",
      "metadata": {
        "id": "TzVWEduIMJhc"
      },
      "source": [
        "tuner = kt.Hyperband(model_builder,\r\n",
        "                     objective='val_accuracy',\r\n",
        "                     max_epochs=10,\r\n",
        "                     factor=3,\r\n",
        "                     directory='my_dir',\r\n",
        "                     project_name='intro_to_kt')"
      ],
      "execution_count": null,
      "outputs": []
    },
    {
      "cell_type": "markdown",
      "metadata": {
        "id": "vebGPUd2NlYy"
      },
      "source": [
        "Create a callback to stop training early after reaching a certain value for the validation loss."
      ]
    },
    {
      "cell_type": "code",
      "metadata": {
        "id": "_vokh7VeNN56"
      },
      "source": [
        "stop_early = tf.keras.callbacks.EarlyStopping(monitor='val_loss', patience=5)"
      ],
      "execution_count": null,
      "outputs": []
    },
    {
      "cell_type": "markdown",
      "metadata": {
        "id": "QMGItpW8Nu9r"
      },
      "source": [
        "Run the hyperparameter search. The arguments for the search method are the same as those used for ```tf.keras.model.fit``` in addition to the callback above.\r\n",
        "\r\n",
        "\r\n"
      ]
    },
    {
      "cell_type": "code",
      "metadata": {
        "colab": {
          "base_uri": "https://localhost:8080/"
        },
        "id": "2MDgT_YANv9K",
        "outputId": "ef472231-2d17-4815-941f-9be82083be16"
      },
      "source": [
        "tuner.search(img_train, label_train, epochs=50, validation_split=0.2, callbacks=[stop_early])\r\n",
        "\r\n",
        "# Get the optimal hyperparameters\r\n",
        "best_hps=tuner.get_best_hyperparameters(num_trials=1)[0]\r\n",
        "\r\n",
        "print(f\"\"\"\r\n",
        "The hyperparameter search is complete. The optimal number of units in the first densely-connected\r\n",
        "layer is {best_hps.get('units')} and the optimal learning rate for the optimizer\r\n",
        "is {best_hps.get('learning_rate')}.\r\n",
        "\"\"\")"
      ],
      "execution_count": null,
      "outputs": [
        {
          "output_type": "stream",
          "text": [
            "Trial 30 Complete [00h 00m 37s]\n",
            "val_accuracy: 0.8604999780654907\n",
            "\n",
            "Best val_accuracy So Far: 0.890500009059906\n",
            "Total elapsed time: 00h 10m 48s\n",
            "INFO:tensorflow:Oracle triggered exit\n",
            "\n",
            "The hyperparameter search is complete. The optimal number of units in the first densely-connected\n",
            "layer is 192 and the optimal learning rate for the optimizer\n",
            "is 0.001.\n",
            "\n"
          ],
          "name": "stdout"
        }
      ]
    },
    {
      "cell_type": "markdown",
      "metadata": {
        "id": "LxFzzrnNO21x"
      },
      "source": [
        "# Train the model"
      ]
    },
    {
      "cell_type": "markdown",
      "metadata": {
        "id": "BH1bejKZPdAU"
      },
      "source": [
        "Find the optimal number of epochs to train the model with the hyperparameters obtained from the search."
      ]
    },
    {
      "cell_type": "code",
      "metadata": {
        "colab": {
          "base_uri": "https://localhost:8080/"
        },
        "id": "tgXtVrHIPVoa",
        "outputId": "e1e5db82-603a-4966-f4be-fd3f3d43a88e"
      },
      "source": [
        "# Build the model with the optimal hyperparameters and train it on the data for 50 epochs\r\n",
        "model = tuner.hypermodel.build(best_hps)\r\n",
        "history = model.fit(img_train, label_train, epochs=50, validation_split=0.2)\r\n",
        "\r\n",
        "val_acc_per_epoch = history.history['val_accuracy']\r\n",
        "best_epoch = val_acc_per_epoch.index(max(val_acc_per_epoch)) + 1\r\n",
        "print('Best epoch: %d' % (best_epoch,))"
      ],
      "execution_count": null,
      "outputs": [
        {
          "output_type": "stream",
          "text": [
            "Epoch 1/50\n",
            "1500/1500 [==============================] - 4s 3ms/step - loss: 0.6483 - accuracy: 0.7698 - val_loss: 0.4199 - val_accuracy: 0.8487\n",
            "Epoch 2/50\n",
            "1500/1500 [==============================] - 4s 2ms/step - loss: 0.3886 - accuracy: 0.8587 - val_loss: 0.3794 - val_accuracy: 0.8658\n",
            "Epoch 3/50\n",
            "1500/1500 [==============================] - 4s 2ms/step - loss: 0.3388 - accuracy: 0.8753 - val_loss: 0.3761 - val_accuracy: 0.8662\n",
            "Epoch 4/50\n",
            "1500/1500 [==============================] - 4s 2ms/step - loss: 0.3085 - accuracy: 0.8881 - val_loss: 0.3537 - val_accuracy: 0.8721\n",
            "Epoch 5/50\n",
            "1500/1500 [==============================] - 4s 2ms/step - loss: 0.3012 - accuracy: 0.8889 - val_loss: 0.3243 - val_accuracy: 0.8848\n",
            "Epoch 6/50\n",
            "1500/1500 [==============================] - 4s 2ms/step - loss: 0.2727 - accuracy: 0.8987 - val_loss: 0.3270 - val_accuracy: 0.8816\n",
            "Epoch 7/50\n",
            "1500/1500 [==============================] - 4s 2ms/step - loss: 0.2628 - accuracy: 0.9015 - val_loss: 0.3224 - val_accuracy: 0.8856\n",
            "Epoch 8/50\n",
            "1500/1500 [==============================] - 4s 2ms/step - loss: 0.2451 - accuracy: 0.9088 - val_loss: 0.3227 - val_accuracy: 0.8832\n",
            "Epoch 9/50\n",
            "1500/1500 [==============================] - 4s 2ms/step - loss: 0.2415 - accuracy: 0.9112 - val_loss: 0.3276 - val_accuracy: 0.8849\n",
            "Epoch 10/50\n",
            "1500/1500 [==============================] - 4s 2ms/step - loss: 0.2272 - accuracy: 0.9159 - val_loss: 0.3217 - val_accuracy: 0.8849\n",
            "Epoch 11/50\n",
            "1500/1500 [==============================] - 4s 2ms/step - loss: 0.2229 - accuracy: 0.9159 - val_loss: 0.3188 - val_accuracy: 0.8893\n",
            "Epoch 12/50\n",
            "1500/1500 [==============================] - 4s 3ms/step - loss: 0.2122 - accuracy: 0.9226 - val_loss: 0.3268 - val_accuracy: 0.8906\n",
            "Epoch 13/50\n",
            "1500/1500 [==============================] - 4s 2ms/step - loss: 0.2017 - accuracy: 0.9246 - val_loss: 0.3230 - val_accuracy: 0.8921\n",
            "Epoch 14/50\n",
            "1500/1500 [==============================] - 4s 2ms/step - loss: 0.1953 - accuracy: 0.9263 - val_loss: 0.3144 - val_accuracy: 0.8942\n",
            "Epoch 15/50\n",
            "1500/1500 [==============================] - 4s 3ms/step - loss: 0.1908 - accuracy: 0.9294 - val_loss: 0.3561 - val_accuracy: 0.8800\n",
            "Epoch 16/50\n",
            "1500/1500 [==============================] - 4s 3ms/step - loss: 0.1825 - accuracy: 0.9325 - val_loss: 0.3359 - val_accuracy: 0.8891\n",
            "Epoch 17/50\n",
            "1500/1500 [==============================] - 4s 3ms/step - loss: 0.1808 - accuracy: 0.9315 - val_loss: 0.3225 - val_accuracy: 0.8959\n",
            "Epoch 18/50\n",
            "1500/1500 [==============================] - 4s 3ms/step - loss: 0.1687 - accuracy: 0.9360 - val_loss: 0.3438 - val_accuracy: 0.8890\n",
            "Epoch 19/50\n",
            "1500/1500 [==============================] - 4s 2ms/step - loss: 0.1648 - accuracy: 0.9373 - val_loss: 0.3402 - val_accuracy: 0.8898\n",
            "Epoch 20/50\n",
            "1500/1500 [==============================] - 4s 3ms/step - loss: 0.1576 - accuracy: 0.9412 - val_loss: 0.3507 - val_accuracy: 0.8857\n",
            "Epoch 21/50\n",
            "1500/1500 [==============================] - 4s 2ms/step - loss: 0.1543 - accuracy: 0.9416 - val_loss: 0.3521 - val_accuracy: 0.8938\n",
            "Epoch 22/50\n",
            "1500/1500 [==============================] - 4s 2ms/step - loss: 0.1488 - accuracy: 0.9444 - val_loss: 0.3652 - val_accuracy: 0.8884\n",
            "Epoch 23/50\n",
            "1500/1500 [==============================] - 4s 3ms/step - loss: 0.1445 - accuracy: 0.9467 - val_loss: 0.3654 - val_accuracy: 0.8932\n",
            "Epoch 24/50\n",
            "1500/1500 [==============================] - 4s 3ms/step - loss: 0.1393 - accuracy: 0.9484 - val_loss: 0.3574 - val_accuracy: 0.8934\n",
            "Epoch 25/50\n",
            "1500/1500 [==============================] - 4s 3ms/step - loss: 0.1402 - accuracy: 0.9475 - val_loss: 0.3697 - val_accuracy: 0.8921\n",
            "Epoch 26/50\n",
            "1500/1500 [==============================] - 4s 2ms/step - loss: 0.1339 - accuracy: 0.9492 - val_loss: 0.3794 - val_accuracy: 0.8946\n",
            "Epoch 27/50\n",
            "1500/1500 [==============================] - 4s 3ms/step - loss: 0.1278 - accuracy: 0.9522 - val_loss: 0.3823 - val_accuracy: 0.8954\n",
            "Epoch 28/50\n",
            "1500/1500 [==============================] - 4s 3ms/step - loss: 0.1273 - accuracy: 0.9520 - val_loss: 0.3962 - val_accuracy: 0.8937\n",
            "Epoch 29/50\n",
            "1500/1500 [==============================] - 4s 2ms/step - loss: 0.1282 - accuracy: 0.9515 - val_loss: 0.3728 - val_accuracy: 0.8953\n",
            "Epoch 30/50\n",
            "1500/1500 [==============================] - 4s 3ms/step - loss: 0.1179 - accuracy: 0.9553 - val_loss: 0.4095 - val_accuracy: 0.8873\n",
            "Epoch 31/50\n",
            "1500/1500 [==============================] - 4s 2ms/step - loss: 0.1222 - accuracy: 0.9546 - val_loss: 0.3981 - val_accuracy: 0.8944\n",
            "Epoch 32/50\n",
            "1500/1500 [==============================] - 4s 2ms/step - loss: 0.1149 - accuracy: 0.9580 - val_loss: 0.4124 - val_accuracy: 0.8925\n",
            "Epoch 33/50\n",
            "1500/1500 [==============================] - 4s 2ms/step - loss: 0.1142 - accuracy: 0.9575 - val_loss: 0.4469 - val_accuracy: 0.8872\n",
            "Epoch 34/50\n",
            "1500/1500 [==============================] - 4s 3ms/step - loss: 0.1134 - accuracy: 0.9579 - val_loss: 0.4293 - val_accuracy: 0.8923\n",
            "Epoch 35/50\n",
            "1500/1500 [==============================] - 4s 2ms/step - loss: 0.1058 - accuracy: 0.9605 - val_loss: 0.4497 - val_accuracy: 0.8886\n",
            "Epoch 36/50\n",
            "1500/1500 [==============================] - 4s 2ms/step - loss: 0.1054 - accuracy: 0.9616 - val_loss: 0.4420 - val_accuracy: 0.8893\n",
            "Epoch 37/50\n",
            "1500/1500 [==============================] - 4s 3ms/step - loss: 0.1053 - accuracy: 0.9619 - val_loss: 0.4323 - val_accuracy: 0.8959\n",
            "Epoch 38/50\n",
            "1500/1500 [==============================] - 4s 3ms/step - loss: 0.0992 - accuracy: 0.9627 - val_loss: 0.4379 - val_accuracy: 0.8928\n",
            "Epoch 39/50\n",
            "1500/1500 [==============================] - 4s 3ms/step - loss: 0.0926 - accuracy: 0.9648 - val_loss: 0.4340 - val_accuracy: 0.8917\n",
            "Epoch 40/50\n",
            "1500/1500 [==============================] - 4s 2ms/step - loss: 0.0924 - accuracy: 0.9643 - val_loss: 0.4671 - val_accuracy: 0.8929\n",
            "Epoch 41/50\n",
            "1500/1500 [==============================] - 4s 2ms/step - loss: 0.0944 - accuracy: 0.9654 - val_loss: 0.4583 - val_accuracy: 0.8864\n",
            "Epoch 42/50\n",
            "1500/1500 [==============================] - 4s 2ms/step - loss: 0.0950 - accuracy: 0.9637 - val_loss: 0.4705 - val_accuracy: 0.8895\n",
            "Epoch 43/50\n",
            "1500/1500 [==============================] - 4s 2ms/step - loss: 0.0896 - accuracy: 0.9669 - val_loss: 0.4952 - val_accuracy: 0.8864\n",
            "Epoch 44/50\n",
            "1500/1500 [==============================] - 4s 2ms/step - loss: 0.0878 - accuracy: 0.9671 - val_loss: 0.4812 - val_accuracy: 0.8907\n",
            "Epoch 45/50\n",
            "1500/1500 [==============================] - 4s 2ms/step - loss: 0.0855 - accuracy: 0.9685 - val_loss: 0.4701 - val_accuracy: 0.8928\n",
            "Epoch 46/50\n",
            "1500/1500 [==============================] - 4s 2ms/step - loss: 0.0850 - accuracy: 0.9686 - val_loss: 0.4733 - val_accuracy: 0.8907\n",
            "Epoch 47/50\n",
            "1500/1500 [==============================] - 4s 2ms/step - loss: 0.0838 - accuracy: 0.9686 - val_loss: 0.4986 - val_accuracy: 0.8920\n",
            "Epoch 48/50\n",
            "1500/1500 [==============================] - 4s 3ms/step - loss: 0.0803 - accuracy: 0.9705 - val_loss: 0.5089 - val_accuracy: 0.8841\n",
            "Epoch 49/50\n",
            "1500/1500 [==============================] - 4s 2ms/step - loss: 0.0790 - accuracy: 0.9707 - val_loss: 0.5159 - val_accuracy: 0.8882\n",
            "Epoch 50/50\n",
            "1500/1500 [==============================] - 4s 2ms/step - loss: 0.0772 - accuracy: 0.9716 - val_loss: 0.5032 - val_accuracy: 0.8898\n",
            "Best epoch: 17\n"
          ],
          "name": "stdout"
        }
      ]
    },
    {
      "cell_type": "code",
      "metadata": {
        "colab": {
          "base_uri": "https://localhost:8080/"
        },
        "id": "yvbdcR7QWvZk",
        "outputId": "3e27f218-bd04-4abf-9445-47732872287a"
      },
      "source": [
        "best_epoch"
      ],
      "execution_count": null,
      "outputs": [
        {
          "output_type": "execute_result",
          "data": {
            "text/plain": [
              "17"
            ]
          },
          "metadata": {
            "tags": []
          },
          "execution_count": 12
        }
      ]
    },
    {
      "cell_type": "code",
      "metadata": {
        "colab": {
          "base_uri": "https://localhost:8080/"
        },
        "id": "DsCRvnxXWx42",
        "outputId": "4d769246-ccff-42f4-c44c-4a67aace7ccd"
      },
      "source": [
        "hypermodel = tuner.hypermodel.build(best_hps)\r\n",
        "\r\n",
        "# Retrain the model\r\n",
        "hypermodel.fit(img_test, label_test, epochs=best_epoch)"
      ],
      "execution_count": null,
      "outputs": [
        {
          "output_type": "stream",
          "text": [
            "Epoch 1/17\n",
            "313/313 [==============================] - 1s 3ms/step - loss: 0.9384 - accuracy: 0.6766\n",
            "Epoch 2/17\n",
            "313/313 [==============================] - 1s 3ms/step - loss: 0.5134 - accuracy: 0.8192\n",
            "Epoch 3/17\n",
            "313/313 [==============================] - 1s 3ms/step - loss: 0.4577 - accuracy: 0.8391\n",
            "Epoch 4/17\n",
            "313/313 [==============================] - 1s 3ms/step - loss: 0.4095 - accuracy: 0.8482\n",
            "Epoch 5/17\n",
            "313/313 [==============================] - 1s 3ms/step - loss: 0.3960 - accuracy: 0.8522\n",
            "Epoch 6/17\n",
            "313/313 [==============================] - 1s 3ms/step - loss: 0.3570 - accuracy: 0.8716\n",
            "Epoch 7/17\n",
            "313/313 [==============================] - 1s 3ms/step - loss: 0.3334 - accuracy: 0.8763\n",
            "Epoch 8/17\n",
            "313/313 [==============================] - 1s 3ms/step - loss: 0.3131 - accuracy: 0.8855\n",
            "Epoch 9/17\n",
            "313/313 [==============================] - 1s 3ms/step - loss: 0.3126 - accuracy: 0.8853\n",
            "Epoch 10/17\n",
            "313/313 [==============================] - 1s 3ms/step - loss: 0.2968 - accuracy: 0.8934\n",
            "Epoch 11/17\n",
            "313/313 [==============================] - 1s 3ms/step - loss: 0.2803 - accuracy: 0.8975\n",
            "Epoch 12/17\n",
            "313/313 [==============================] - 1s 3ms/step - loss: 0.2598 - accuracy: 0.9039\n",
            "Epoch 13/17\n",
            "313/313 [==============================] - 1s 3ms/step - loss: 0.2459 - accuracy: 0.9116\n",
            "Epoch 14/17\n",
            "313/313 [==============================] - 1s 3ms/step - loss: 0.2439 - accuracy: 0.9131\n",
            "Epoch 15/17\n",
            "313/313 [==============================] - 1s 3ms/step - loss: 0.2411 - accuracy: 0.9083\n",
            "Epoch 16/17\n",
            "313/313 [==============================] - 1s 3ms/step - loss: 0.2173 - accuracy: 0.9250\n",
            "Epoch 17/17\n",
            "313/313 [==============================] - 1s 3ms/step - loss: 0.2145 - accuracy: 0.9260\n"
          ],
          "name": "stdout"
        },
        {
          "output_type": "execute_result",
          "data": {
            "text/plain": [
              "<tensorflow.python.keras.callbacks.History at 0x7fb16a4f9210>"
            ]
          },
          "metadata": {
            "tags": []
          },
          "execution_count": 13
        }
      ]
    }
  ]
}